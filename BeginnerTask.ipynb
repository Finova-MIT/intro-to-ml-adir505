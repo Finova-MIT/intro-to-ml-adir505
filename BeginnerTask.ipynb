{
 "cells": [
  {
   "cell_type": "code",
   "execution_count": 1,
   "id": "619e59dc-1c50-47d2-873d-e00494b07ac5",
   "metadata": {},
   "outputs": [],
   "source": [
    "import numpy as np\n",
    "import pandas as pd\n",
    "import matplotlib as plt\n",
    "import sklearn\n",
    "msg='Hello World'"
   ]
  },
  {
   "cell_type": "code",
   "execution_count": 2,
   "id": "5c6b05be-09b8-4c11-958d-34140dd2d6cd",
   "metadata": {},
   "outputs": [
    {
     "name": "stdout",
     "output_type": "stream",
     "text": [
      "Hello World\n",
      "<class 'str'>\n",
      "llo World\n"
     ]
    }
   ],
   "source": [
    "print(msg)\n",
    "print(type(msg))\n",
    "print(msg[2:])"
   ]
  },
  {
   "cell_type": "code",
   "execution_count": 3,
   "id": "a8f89600-9798-4f24-ad21-6b8ce4e59ea3",
   "metadata": {},
   "outputs": [
    {
     "name": "stdout",
     "output_type": "stream",
     "text": [
      "<class 'list'>\n",
      "IloveML\n"
     ]
    }
   ],
   "source": [
    "greet_list=['I','love','ML',100]\n",
    "print(type(greet_list))\n",
    "msg=greet_list[0]+greet_list[1]+greet_list[2]\n",
    "print(msg)"
   ]
  },
  {
   "cell_type": "code",
   "execution_count": 4,
   "id": "3ae34b4b-8126-4264-a397-ecd83bb83bdd",
   "metadata": {},
   "outputs": [
    {
     "name": "stdout",
     "output_type": "stream",
     "text": [
      "z\n"
     ]
    }
   ],
   "source": [
    "d={1:'x',2:'y',3:{'a':'z','b':'c','d':'e'}}\n",
    "print(d.get(3)['a'])"
   ]
  },
  {
   "cell_type": "code",
   "execution_count": 5,
   "id": "df3000c6-eea8-4870-82e7-c828773aeea1",
   "metadata": {},
   "outputs": [
    {
     "name": "stdout",
     "output_type": "stream",
     "text": [
      "[[ True  True  True]\n",
      " [ True  True  True]\n",
      " [ True  True  True]]\n"
     ]
    }
   ],
   "source": [
    "a2d=np.array([[1,2],[3,4],[5,6]])\n",
    "bool_array_tru=np.ones((3,3),dtype=bool)\n",
    "bool_array_fal=~bool_array_tru\n",
    "print(bool_array_fal<bool_array_tru)"
   ]
  },
  {
   "cell_type": "code",
   "execution_count": 6,
   "id": "e2092972-efa9-47f3-9055-3c2cb125173c",
   "metadata": {},
   "outputs": [
    {
     "name": "stdout",
     "output_type": "stream",
     "text": [
      "[[1 2]\n",
      " [4 5]\n",
      " [5 6]]\n"
     ]
    }
   ],
   "source": [
    "b2d=a2d[1,:]\n",
    "b2d+=1\n",
    "print(a2d)"
   ]
  },
  {
   "cell_type": "code",
   "execution_count": 7,
   "id": "dcd3f460-f9ad-4ce2-831e-56541270d20c",
   "metadata": {},
   "outputs": [
    {
     "name": "stdout",
     "output_type": "stream",
     "text": [
      "[10  8  6  4  2]\n"
     ]
    },
    {
     "data": {
      "text/plain": [
       "array([1, 5, 5])"
      ]
     },
     "execution_count": 7,
     "metadata": {},
     "output_type": "execute_result"
    }
   ],
   "source": [
    "x=np.arange(10,1,-2)\n",
    "print(x)\n",
    "a2d[[0,1,2],[0,1,0]]"
   ]
  },
  {
   "cell_type": "code",
   "execution_count": 8,
   "id": "26abb411-021c-42d5-8ebf-f168618abcac",
   "metadata": {},
   "outputs": [
    {
     "name": "stdout",
     "output_type": "stream",
     "text": [
      "[4 5 5 6]\n"
     ]
    },
    {
     "data": {
      "text/plain": [
       "array([[1, 1]])"
      ]
     },
     "execution_count": 8,
     "metadata": {},
     "output_type": "execute_result"
    }
   ],
   "source": [
    "b2d=a2d[a2d>=3]\n",
    "print(b2d)\n",
    "x=np.array([[0,0],[1,1],[1,2]])\n",
    "colsum=x.sum(1)\n",
    "x[colsum==2] #selecting rows based on boolean values"
   ]
  },
  {
   "cell_type": "code",
   "execution_count": 31,
   "id": "17970231-588c-463c-8cdf-26e16591ade6",
   "metadata": {},
   "outputs": [
    {
     "data": {
      "text/plain": [
       "np.float64(50.5)"
      ]
     },
     "execution_count": 31,
     "metadata": {},
     "output_type": "execute_result"
    }
   ],
   "source": [
    "a2d[:,0]\n",
    "np.mean(a2d[:,0])\n",
    "x=np.random.default_rng()\n",
    "y=x.integers(low=1,high=100,size=1000)\n",
    "np.median(y)"
   ]
  },
  {
   "cell_type": "code",
   "execution_count": 95,
   "id": "1f08f9c6-55d2-4256-aaa8-6eb7b6cf9ca0",
   "metadata": {},
   "outputs": [
    {
     "name": "stdout",
     "output_type": "stream",
     "text": [
      "<class 'pandas.core.frame.DataFrame'>\n",
      "RangeIndex: 891 entries, 0 to 890\n",
      "Data columns (total 12 columns):\n",
      " #   Column       Non-Null Count  Dtype  \n",
      "---  ------       --------------  -----  \n",
      " 0   PassengerId  891 non-null    int64  \n",
      " 1   Survived     891 non-null    int64  \n",
      " 2   Pclass       891 non-null    int64  \n",
      " 3   Name         891 non-null    object \n",
      " 4   Sex          891 non-null    object \n",
      " 5   Age          714 non-null    float64\n",
      " 6   SibSp        891 non-null    int64  \n",
      " 7   Parch        891 non-null    int64  \n",
      " 8   Ticket       891 non-null    object \n",
      " 9   Fare         891 non-null    float64\n",
      " 10  Cabin        204 non-null    object \n",
      " 11  Embarked     889 non-null    object \n",
      "dtypes: float64(2), int64(5), object(5)\n",
      "memory usage: 83.7+ KB\n"
     ]
    }
   ],
   "source": [
    "import pandas as pd\n",
    "import os\n",
    "titanic=pd.read_csv('Titanic-Dataset.csv')\n",
    "titanic.info()\n",
    "#The age column cannot be imputed with mean or median age as they are charecteristics of individuals. We cannot simply assume the passengers age to be the mean just because their data is not recorded. We must drop all null age rows."
   ]
  },
  {
   "cell_type": "code",
   "execution_count": 12,
   "id": "9e7dce97-b1d3-4ecb-beb1-cda82ff8c6cd",
   "metadata": {},
   "outputs": [
    {
     "name": "stdout",
     "output_type": "stream",
     "text": [
      "The mean fare of the first class passengers on the Titanic was 84.1546875\n"
     ]
    }
   ],
   "source": [
    "mean_fare=np.mean(np.array(titanic[titanic['Pclass']==1]['Fare'],dtype=float))\n",
    "std_dev=np.std(np.array(titanic['Fare'],dtype=float))\n",
    "print(f'The mean fare of the first class passengers on the Titanic was {mean_fare}')"
   ]
  },
  {
   "cell_type": "code",
   "execution_count": 30,
   "id": "cc85d239-7419-4dcf-929c-41ead88f6bb1",
   "metadata": {},
   "outputs": [
    {
     "data": {
      "text/plain": [
       "[<matplotlib.lines.Line2D at 0x7f79b3cb66c0>]"
      ]
     },
     "execution_count": 30,
     "metadata": {},
     "output_type": "execute_result"
    },
    {
     "data": {
      "image/png": "[encoded data removed]",
      "text/plain": [
       "<Figure size 640x480 with 1 Axes>"
      ]
     },
     "metadata": {},
     "output_type": "display_data"
    }
   ],
   "source": [
    "import matplotlib.pyplot as plt\n",
    "means=list()\n",
    "for i in range(1,4):\n",
    "    means.append(np.mean(np.array(titanic[titanic['Pclass']==i]['Fare'],dtype=float)))\n",
    "plt.plot([1,2,3],means)"
   ]
  },
  {
   "cell_type": "code",
   "execution_count": 90,
   "id": "8d693e2a-4a0c-48fa-b1dd-fad7b78ff9c3",
   "metadata": {},
   "outputs": [
    {
     "data": {
      "image/png": "[encoded data removed]",
      "text/plain": [
       "<Figure size 640x480 with 1 Axes>"
      ]
     },
     "metadata": {},
     "output_type": "display_data"
    }
   ],
   "source": [
    "#Scatter plot for ages based on sex on the ship:\n",
    "ages=titanic[['Sex','Age']]\n",
    "ages=ages.dropna()\n",
    "ages_m,ages_f=ages[ages['Sex']=='male'],ages[ages['Sex']=='female']\n",
    "ages_m=ages_m.sort_values(by='Age')\n",
    "ages_m_counts=np.array(ages_m['Age'].value_counts(sort=False))\n",
    "ages_m=ages_m['Age'].unique()\n",
    "plt.scatter(ages_m,ages_m_counts)\n",
    "ages_f=ages_f.sort_values(by='Age')\n",
    "ages_f_counts=np.array(ages_f['Age'].value_counts(sort=False))\n",
    "ages_f=ages_f['Age'].unique()\n",
    "plt.xlabel('Age')\n",
    "plt.ylabel('Number')\n",
    "plt.scatter(ages_f,ages_f_counts)\n",
    "labels=['Male','Female']\n",
    "plt.legend(labels)\n",
    "plt.show()"
   ]
  },
  {
   "cell_type": "code",
   "execution_count": 86,
   "id": "7607ee33-72b8-4fbe-8782-6af8736860cd",
   "metadata": {},
   "outputs": [
    {
     "ename": "AttributeError",
     "evalue": "'numpy.ndarray' object has no attribute 'sort_values'",
     "output_type": "error",
     "traceback": [
      "\u001b[0;31m---------------------------------------------------------------------------\u001b[0m",
      "\u001b[0;31mAttributeError\u001b[0m                            Traceback (most recent call last)",
      "Cell \u001b[0;32mIn[86], line 1\u001b[0m\n\u001b[0;32m----> 1\u001b[0m ages_f\u001b[38;5;241m=\u001b[39m\u001b[43mages_f\u001b[49m\u001b[38;5;241;43m.\u001b[39;49m\u001b[43msort_values\u001b[49m(by\u001b[38;5;241m=\u001b[39m\u001b[38;5;124m'\u001b[39m\u001b[38;5;124mAge\u001b[39m\u001b[38;5;124m'\u001b[39m)\n\u001b[1;32m      2\u001b[0m ages_f_counts\u001b[38;5;241m=\u001b[39mnp\u001b[38;5;241m.\u001b[39marray(ages_f[\u001b[38;5;124m'\u001b[39m\u001b[38;5;124mAge\u001b[39m\u001b[38;5;124m'\u001b[39m]\u001b[38;5;241m.\u001b[39mvalue_counts(sort\u001b[38;5;241m=\u001b[39m\u001b[38;5;28;01mFalse\u001b[39;00m))\n\u001b[1;32m      3\u001b[0m ages_f\u001b[38;5;241m=\u001b[39mages_f[\u001b[38;5;124m'\u001b[39m\u001b[38;5;124mAge\u001b[39m\u001b[38;5;124m'\u001b[39m]\u001b[38;5;241m.\u001b[39munique()\n",
      "\u001b[0;31mAttributeError\u001b[0m: 'numpy.ndarray' object has no attribute 'sort_values'"
     ]
    }
   ],
   "source": []
  },
  {
   "cell_type": "code",
   "execution_count": 85,
   "id": "85e07f12-4406-41b6-ae45-8241f6e43218",
   "metadata": {},
   "outputs": [],
   "source": []
  },
  {
   "cell_type": "code",
   "execution_count": null,
   "id": "c8ed86a8-6519-40ff-8c36-61cd9ac6ed11",
   "metadata": {},
   "outputs": [],
   "source": []
  }
 ],
 "metadata": {
  "kernelspec": {
   "display_name": "Python 3 (ipykernel)",
   "language": "python",
   "name": "python3"
  },
  "language_info": {
   "codemirror_mode": {
    "name": "ipython",
    "version": 3
   },
   "file_extension": ".py",
   "mimetype": "text/x-python",
   "name": "python",
   "nbconvert_exporter": "python",
   "pygments_lexer": "ipython3",
   "version": "3.12.3"
  }
 },
 "nbformat": 4,
 "nbformat_minor": 5
}
